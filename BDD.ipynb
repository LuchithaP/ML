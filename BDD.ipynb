{
  "nbformat": 4,
  "nbformat_minor": 0,
  "metadata": {
    "colab": {
      "provenance": [],
      "authorship_tag": "ABX9TyM1W3pAPODIA6yZvPYXeAU0",
      "include_colab_link": true
    },
    "kernelspec": {
      "name": "python3",
      "display_name": "Python 3"
    },
    "language_info": {
      "name": "python"
    }
  },
  "cells": [
    {
      "cell_type": "markdown",
      "metadata": {
        "id": "view-in-github",
        "colab_type": "text"
      },
      "source": [
        "<a href=\"https://colab.research.google.com/github/LuchithaP/ML/blob/main/BDD.ipynb\" target=\"_parent\"><img src=\"https://colab.research.google.com/assets/colab-badge.svg\" alt=\"Open In Colab\"/></a>"
      ]
    },
    {
      "cell_type": "code",
      "execution_count": 1,
      "metadata": {
        "colab": {
          "base_uri": "https://localhost:8080/",
          "height": 1000
        },
        "id": "T4NRaSCvMbBP",
        "outputId": "eb329dd2-c8a9-4e24-cb01-e5493fca68dd"
      },
      "outputs": [
        {
          "output_type": "stream",
          "name": "stdout",
          "text": [
            "Collecting tensorflow==2.9\n",
            "  Downloading tensorflow-2.9.0-cp310-cp310-manylinux_2_17_x86_64.manylinux2014_x86_64.whl.metadata (3.0 kB)\n",
            "Requirement already satisfied: absl-py>=1.0.0 in /usr/local/lib/python3.10/dist-packages (from tensorflow==2.9) (1.4.0)\n",
            "Requirement already satisfied: astunparse>=1.6.0 in /usr/local/lib/python3.10/dist-packages (from tensorflow==2.9) (1.6.3)\n",
            "Collecting flatbuffers<2,>=1.12 (from tensorflow==2.9)\n",
            "  Downloading flatbuffers-1.12-py2.py3-none-any.whl.metadata (872 bytes)\n",
            "Collecting gast<=0.4.0,>=0.2.1 (from tensorflow==2.9)\n",
            "  Downloading gast-0.4.0-py3-none-any.whl.metadata (1.1 kB)\n",
            "Requirement already satisfied: google-pasta>=0.1.1 in /usr/local/lib/python3.10/dist-packages (from tensorflow==2.9) (0.2.0)\n",
            "Requirement already satisfied: grpcio<2.0,>=1.24.3 in /usr/local/lib/python3.10/dist-packages (from tensorflow==2.9) (1.68.1)\n",
            "Requirement already satisfied: h5py>=2.9.0 in /usr/local/lib/python3.10/dist-packages (from tensorflow==2.9) (3.12.1)\n",
            "Collecting keras<2.10.0,>=2.9.0rc0 (from tensorflow==2.9)\n",
            "  Downloading keras-2.9.0-py2.py3-none-any.whl.metadata (1.3 kB)\n",
            "Collecting keras-preprocessing>=1.1.1 (from tensorflow==2.9)\n",
            "  Downloading Keras_Preprocessing-1.1.2-py2.py3-none-any.whl.metadata (1.9 kB)\n",
            "Requirement already satisfied: libclang>=13.0.0 in /usr/local/lib/python3.10/dist-packages (from tensorflow==2.9) (18.1.1)\n",
            "Requirement already satisfied: numpy>=1.20 in /usr/local/lib/python3.10/dist-packages (from tensorflow==2.9) (1.26.4)\n",
            "Requirement already satisfied: opt-einsum>=2.3.2 in /usr/local/lib/python3.10/dist-packages (from tensorflow==2.9) (3.4.0)\n",
            "Requirement already satisfied: packaging in /usr/local/lib/python3.10/dist-packages (from tensorflow==2.9) (24.2)\n",
            "Requirement already satisfied: protobuf>=3.9.2 in /usr/local/lib/python3.10/dist-packages (from tensorflow==2.9) (4.25.5)\n",
            "Requirement already satisfied: setuptools in /usr/local/lib/python3.10/dist-packages (from tensorflow==2.9) (75.1.0)\n",
            "Requirement already satisfied: six>=1.12.0 in /usr/local/lib/python3.10/dist-packages (from tensorflow==2.9) (1.17.0)\n",
            "Collecting tensorboard<2.10,>=2.9 (from tensorflow==2.9)\n",
            "  Downloading tensorboard-2.9.1-py3-none-any.whl.metadata (1.9 kB)\n",
            "Requirement already satisfied: tensorflow-io-gcs-filesystem>=0.23.1 in /usr/local/lib/python3.10/dist-packages (from tensorflow==2.9) (0.37.1)\n",
            "Collecting tensorflow-estimator<2.10.0,>=2.9.0rc0 (from tensorflow==2.9)\n",
            "  Downloading tensorflow_estimator-2.9.0-py2.py3-none-any.whl.metadata (1.3 kB)\n",
            "Requirement already satisfied: termcolor>=1.1.0 in /usr/local/lib/python3.10/dist-packages (from tensorflow==2.9) (2.5.0)\n",
            "Requirement already satisfied: typing-extensions>=3.6.6 in /usr/local/lib/python3.10/dist-packages (from tensorflow==2.9) (4.12.2)\n",
            "Requirement already satisfied: wrapt>=1.11.0 in /usr/local/lib/python3.10/dist-packages (from tensorflow==2.9) (1.17.0)\n",
            "Requirement already satisfied: wheel<1.0,>=0.23.0 in /usr/local/lib/python3.10/dist-packages (from astunparse>=1.6.0->tensorflow==2.9) (0.45.1)\n",
            "Requirement already satisfied: google-auth<3,>=1.6.3 in /usr/local/lib/python3.10/dist-packages (from tensorboard<2.10,>=2.9->tensorflow==2.9) (2.27.0)\n",
            "Collecting google-auth-oauthlib<0.5,>=0.4.1 (from tensorboard<2.10,>=2.9->tensorflow==2.9)\n",
            "  Downloading google_auth_oauthlib-0.4.6-py2.py3-none-any.whl.metadata (2.7 kB)\n",
            "Requirement already satisfied: markdown>=2.6.8 in /usr/local/lib/python3.10/dist-packages (from tensorboard<2.10,>=2.9->tensorflow==2.9) (3.7)\n",
            "Collecting protobuf>=3.9.2 (from tensorflow==2.9)\n",
            "  Downloading protobuf-3.19.6-cp310-cp310-manylinux_2_17_x86_64.manylinux2014_x86_64.whl.metadata (787 bytes)\n",
            "Requirement already satisfied: requests<3,>=2.21.0 in /usr/local/lib/python3.10/dist-packages (from tensorboard<2.10,>=2.9->tensorflow==2.9) (2.32.3)\n",
            "Collecting tensorboard-data-server<0.7.0,>=0.6.0 (from tensorboard<2.10,>=2.9->tensorflow==2.9)\n",
            "  Downloading tensorboard_data_server-0.6.1-py3-none-manylinux2010_x86_64.whl.metadata (1.1 kB)\n",
            "Collecting tensorboard-plugin-wit>=1.6.0 (from tensorboard<2.10,>=2.9->tensorflow==2.9)\n",
            "  Downloading tensorboard_plugin_wit-1.8.1-py3-none-any.whl.metadata (873 bytes)\n",
            "Requirement already satisfied: werkzeug>=1.0.1 in /usr/local/lib/python3.10/dist-packages (from tensorboard<2.10,>=2.9->tensorflow==2.9) (3.1.3)\n",
            "Requirement already satisfied: cachetools<6.0,>=2.0.0 in /usr/local/lib/python3.10/dist-packages (from google-auth<3,>=1.6.3->tensorboard<2.10,>=2.9->tensorflow==2.9) (5.5.0)\n",
            "Requirement already satisfied: pyasn1-modules>=0.2.1 in /usr/local/lib/python3.10/dist-packages (from google-auth<3,>=1.6.3->tensorboard<2.10,>=2.9->tensorflow==2.9) (0.4.1)\n",
            "Requirement already satisfied: rsa<5,>=3.1.4 in /usr/local/lib/python3.10/dist-packages (from google-auth<3,>=1.6.3->tensorboard<2.10,>=2.9->tensorflow==2.9) (4.9)\n",
            "Requirement already satisfied: requests-oauthlib>=0.7.0 in /usr/local/lib/python3.10/dist-packages (from google-auth-oauthlib<0.5,>=0.4.1->tensorboard<2.10,>=2.9->tensorflow==2.9) (1.3.1)\n",
            "Requirement already satisfied: charset-normalizer<4,>=2 in /usr/local/lib/python3.10/dist-packages (from requests<3,>=2.21.0->tensorboard<2.10,>=2.9->tensorflow==2.9) (3.4.0)\n",
            "Requirement already satisfied: idna<4,>=2.5 in /usr/local/lib/python3.10/dist-packages (from requests<3,>=2.21.0->tensorboard<2.10,>=2.9->tensorflow==2.9) (3.10)\n",
            "Requirement already satisfied: urllib3<3,>=1.21.1 in /usr/local/lib/python3.10/dist-packages (from requests<3,>=2.21.0->tensorboard<2.10,>=2.9->tensorflow==2.9) (2.2.3)\n",
            "Requirement already satisfied: certifi>=2017.4.17 in /usr/local/lib/python3.10/dist-packages (from requests<3,>=2.21.0->tensorboard<2.10,>=2.9->tensorflow==2.9) (2024.8.30)\n",
            "Requirement already satisfied: MarkupSafe>=2.1.1 in /usr/local/lib/python3.10/dist-packages (from werkzeug>=1.0.1->tensorboard<2.10,>=2.9->tensorflow==2.9) (3.0.2)\n",
            "Requirement already satisfied: pyasn1<0.7.0,>=0.4.6 in /usr/local/lib/python3.10/dist-packages (from pyasn1-modules>=0.2.1->google-auth<3,>=1.6.3->tensorboard<2.10,>=2.9->tensorflow==2.9) (0.6.1)\n",
            "Requirement already satisfied: oauthlib>=3.0.0 in /usr/local/lib/python3.10/dist-packages (from requests-oauthlib>=0.7.0->google-auth-oauthlib<0.5,>=0.4.1->tensorboard<2.10,>=2.9->tensorflow==2.9) (3.2.2)\n",
            "Downloading tensorflow-2.9.0-cp310-cp310-manylinux_2_17_x86_64.manylinux2014_x86_64.whl (511.7 MB)\n",
            "\u001b[2K   \u001b[90m━━━━━━━━━━━━━━━━━━━━━━━━━━━━━━━━━━━━━━━━\u001b[0m \u001b[32m511.7/511.7 MB\u001b[0m \u001b[31m2.8 MB/s\u001b[0m eta \u001b[36m0:00:00\u001b[0m\n",
            "\u001b[?25hDownloading flatbuffers-1.12-py2.py3-none-any.whl (15 kB)\n",
            "Downloading gast-0.4.0-py3-none-any.whl (9.8 kB)\n",
            "Downloading keras-2.9.0-py2.py3-none-any.whl (1.6 MB)\n",
            "\u001b[2K   \u001b[90m━━━━━━━━━━━━━━━━━━━━━━━━━━━━━━━━━━━━━━━━\u001b[0m \u001b[32m1.6/1.6 MB\u001b[0m \u001b[31m44.9 MB/s\u001b[0m eta \u001b[36m0:00:00\u001b[0m\n",
            "\u001b[?25hDownloading Keras_Preprocessing-1.1.2-py2.py3-none-any.whl (42 kB)\n",
            "\u001b[2K   \u001b[90m━━━━━━━━━━━━━━━━━━━━━━━━━━━━━━━━━━━━━━━━\u001b[0m \u001b[32m42.6/42.6 kB\u001b[0m \u001b[31m3.6 MB/s\u001b[0m eta \u001b[36m0:00:00\u001b[0m\n",
            "\u001b[?25hDownloading tensorboard-2.9.1-py3-none-any.whl (5.8 MB)\n",
            "\u001b[2K   \u001b[90m━━━━━━━━━━━━━━━━━━━━━━━━━━━━━━━━━━━━━━━━\u001b[0m \u001b[32m5.8/5.8 MB\u001b[0m \u001b[31m73.3 MB/s\u001b[0m eta \u001b[36m0:00:00\u001b[0m\n",
            "\u001b[?25hDownloading protobuf-3.19.6-cp310-cp310-manylinux_2_17_x86_64.manylinux2014_x86_64.whl (1.1 MB)\n",
            "\u001b[2K   \u001b[90m━━━━━━━━━━━━━━━━━━━━━━━━━━━━━━━━━━━━━━━━\u001b[0m \u001b[32m1.1/1.1 MB\u001b[0m \u001b[31m41.9 MB/s\u001b[0m eta \u001b[36m0:00:00\u001b[0m\n",
            "\u001b[?25hDownloading tensorflow_estimator-2.9.0-py2.py3-none-any.whl (438 kB)\n",
            "\u001b[2K   \u001b[90m━━━━━━━━━━━━━━━━━━━━━━━━━━━━━━━━━━━━━━━━\u001b[0m \u001b[32m438.7/438.7 kB\u001b[0m \u001b[31m21.0 MB/s\u001b[0m eta \u001b[36m0:00:00\u001b[0m\n",
            "\u001b[?25hDownloading google_auth_oauthlib-0.4.6-py2.py3-none-any.whl (18 kB)\n",
            "Downloading tensorboard_data_server-0.6.1-py3-none-manylinux2010_x86_64.whl (4.9 MB)\n",
            "\u001b[2K   \u001b[90m━━━━━━━━━━━━━━━━━━━━━━━━━━━━━━━━━━━━━━━━\u001b[0m \u001b[32m4.9/4.9 MB\u001b[0m \u001b[31m52.3 MB/s\u001b[0m eta \u001b[36m0:00:00\u001b[0m\n",
            "\u001b[?25hDownloading tensorboard_plugin_wit-1.8.1-py3-none-any.whl (781 kB)\n",
            "\u001b[2K   \u001b[90m━━━━━━━━━━━━━━━━━━━━━━━━━━━━━━━━━━━━━━━━\u001b[0m \u001b[32m781.3/781.3 kB\u001b[0m \u001b[31m22.4 MB/s\u001b[0m eta \u001b[36m0:00:00\u001b[0m\n",
            "\u001b[?25hInstalling collected packages: tensorboard-plugin-wit, keras, flatbuffers, tensorflow-estimator, tensorboard-data-server, protobuf, keras-preprocessing, gast, google-auth-oauthlib, tensorboard, tensorflow\n",
            "  Attempting uninstall: keras\n",
            "    Found existing installation: keras 3.5.0\n",
            "    Uninstalling keras-3.5.0:\n",
            "      Successfully uninstalled keras-3.5.0\n",
            "  Attempting uninstall: flatbuffers\n",
            "    Found existing installation: flatbuffers 24.3.25\n",
            "    Uninstalling flatbuffers-24.3.25:\n",
            "      Successfully uninstalled flatbuffers-24.3.25\n",
            "  Attempting uninstall: tensorboard-data-server\n",
            "    Found existing installation: tensorboard-data-server 0.7.2\n",
            "    Uninstalling tensorboard-data-server-0.7.2:\n",
            "      Successfully uninstalled tensorboard-data-server-0.7.2\n",
            "  Attempting uninstall: protobuf\n",
            "    Found existing installation: protobuf 4.25.5\n",
            "    Uninstalling protobuf-4.25.5:\n",
            "      Successfully uninstalled protobuf-4.25.5\n",
            "  Attempting uninstall: gast\n",
            "    Found existing installation: gast 0.6.0\n",
            "    Uninstalling gast-0.6.0:\n",
            "      Successfully uninstalled gast-0.6.0\n",
            "  Attempting uninstall: google-auth-oauthlib\n",
            "    Found existing installation: google-auth-oauthlib 1.2.1\n",
            "    Uninstalling google-auth-oauthlib-1.2.1:\n",
            "      Successfully uninstalled google-auth-oauthlib-1.2.1\n",
            "  Attempting uninstall: tensorboard\n",
            "    Found existing installation: tensorboard 2.17.1\n",
            "    Uninstalling tensorboard-2.17.1:\n",
            "      Successfully uninstalled tensorboard-2.17.1\n",
            "  Attempting uninstall: tensorflow\n",
            "    Found existing installation: tensorflow 2.17.1\n",
            "    Uninstalling tensorflow-2.17.1:\n",
            "      Successfully uninstalled tensorflow-2.17.1\n",
            "\u001b[31mERROR: pip's dependency resolver does not currently take into account all the packages that are installed. This behaviour is the source of the following dependency conflicts.\n",
            "google-ai-generativelanguage 0.6.10 requires protobuf!=4.21.0,!=4.21.1,!=4.21.2,!=4.21.3,!=4.21.4,!=4.21.5,<6.0.0dev,>=3.20.2, but you have protobuf 3.19.6 which is incompatible.\n",
            "google-cloud-aiplatform 1.73.0 requires protobuf!=4.21.0,!=4.21.1,!=4.21.2,!=4.21.3,!=4.21.4,!=4.21.5,<6.0.0dev,>=3.20.2, but you have protobuf 3.19.6 which is incompatible.\n",
            "google-cloud-bigquery-connection 1.16.1 requires protobuf!=4.21.0,!=4.21.1,!=4.21.2,!=4.21.3,!=4.21.4,!=4.21.5,<6.0.0dev,>=3.20.2, but you have protobuf 3.19.6 which is incompatible.\n",
            "google-cloud-bigquery-storage 2.27.0 requires protobuf!=3.20.0,!=3.20.1,!=4.21.0,!=4.21.1,!=4.21.2,!=4.21.3,!=4.21.4,!=4.21.5,<6.0.0dev,>=3.20.2, but you have protobuf 3.19.6 which is incompatible.\n",
            "google-cloud-bigtable 2.27.0 requires protobuf!=4.21.0,!=4.21.1,!=4.21.2,!=4.21.3,!=4.21.4,!=4.21.5,<6.0.0dev,>=3.20.2, but you have protobuf 3.19.6 which is incompatible.\n",
            "google-cloud-datastore 2.20.1 requires protobuf!=3.20.0,!=3.20.1,!=4.21.0,!=4.21.1,!=4.21.2,!=4.21.3,!=4.21.4,!=4.21.5,<6.0.0dev,>=3.20.2, but you have protobuf 3.19.6 which is incompatible.\n",
            "google-cloud-firestore 2.19.0 requires protobuf!=3.20.0,!=3.20.1,!=4.21.0,!=4.21.1,!=4.21.2,!=4.21.3,!=4.21.4,!=4.21.5,<6.0.0dev,>=3.20.2, but you have protobuf 3.19.6 which is incompatible.\n",
            "google-cloud-functions 1.18.1 requires protobuf!=4.21.0,!=4.21.1,!=4.21.2,!=4.21.3,!=4.21.4,!=4.21.5,<6.0.0dev,>=3.20.2, but you have protobuf 3.19.6 which is incompatible.\n",
            "google-cloud-iam 2.16.1 requires protobuf!=4.21.0,!=4.21.1,!=4.21.2,!=4.21.3,!=4.21.4,!=4.21.5,<6.0.0dev,>=3.20.2, but you have protobuf 3.19.6 which is incompatible.\n",
            "google-cloud-language 2.15.1 requires protobuf!=4.21.0,!=4.21.1,!=4.21.2,!=4.21.3,!=4.21.4,!=4.21.5,<6.0.0dev,>=3.20.2, but you have protobuf 3.19.6 which is incompatible.\n",
            "google-cloud-pubsub 2.27.1 requires protobuf!=4.21.0,!=4.21.1,!=4.21.2,!=4.21.3,!=4.21.4,!=4.21.5,<6.0.0dev,>=3.20.2, but you have protobuf 3.19.6 which is incompatible.\n",
            "google-cloud-resource-manager 1.13.1 requires protobuf!=4.21.0,!=4.21.1,!=4.21.2,!=4.21.3,!=4.21.4,!=4.21.5,<6.0.0dev,>=3.20.2, but you have protobuf 3.19.6 which is incompatible.\n",
            "google-cloud-translate 3.17.0 requires protobuf!=4.21.0,!=4.21.1,!=4.21.2,!=4.21.3,!=4.21.4,!=4.21.5,<6.0.0dev,>=3.20.2, but you have protobuf 3.19.6 which is incompatible.\n",
            "googleapis-common-protos 1.66.0 requires protobuf!=3.20.0,!=3.20.1,!=4.21.1,!=4.21.2,!=4.21.3,!=4.21.4,!=4.21.5,<6.0.0.dev0,>=3.20.2, but you have protobuf 3.19.6 which is incompatible.\n",
            "grpc-google-iam-v1 0.13.1 requires protobuf!=4.21.1,!=4.21.2,!=4.21.3,!=4.21.4,!=4.21.5,<6.0.0dev,>=3.20.2, but you have protobuf 3.19.6 which is incompatible.\n",
            "grpcio-status 1.62.3 requires protobuf>=4.21.6, but you have protobuf 3.19.6 which is incompatible.\n",
            "pandas-gbq 0.24.0 requires google-auth-oauthlib>=0.7.0, but you have google-auth-oauthlib 0.4.6 which is incompatible.\n",
            "tensorflow-datasets 4.9.7 requires protobuf>=3.20, but you have protobuf 3.19.6 which is incompatible.\n",
            "tensorflow-metadata 1.13.1 requires protobuf<5,>=3.20.3, but you have protobuf 3.19.6 which is incompatible.\n",
            "tf-keras 2.17.0 requires tensorflow<2.18,>=2.17, but you have tensorflow 2.9.0 which is incompatible.\u001b[0m\u001b[31m\n",
            "\u001b[0mSuccessfully installed flatbuffers-1.12 gast-0.4.0 google-auth-oauthlib-0.4.6 keras-2.9.0 keras-preprocessing-1.1.2 protobuf-3.19.6 tensorboard-2.9.1 tensorboard-data-server-0.6.1 tensorboard-plugin-wit-1.8.1 tensorflow-2.9.0 tensorflow-estimator-2.9.0\n"
          ]
        },
        {
          "output_type": "display_data",
          "data": {
            "application/vnd.colab-display-data+json": {
              "pip_warning": {
                "packages": [
                  "google"
                ]
              },
              "id": "daf0ec8de7b1492a8652c066018d6f01"
            }
          },
          "metadata": {}
        }
      ],
      "source": [
        "!pip install tensorflow==2.9"
      ]
    },
    {
      "cell_type": "code",
      "source": [
        "#df['right/left'] = df.apply(lambda row: 'Left' if row['Alpha_TP9'] > row['Alpha_AF7'] and row['Alpha_TP9'] > row['Alpha_AF8'] else 'Right', axis=1)"
      ],
      "metadata": {
        "id": "EXF3lKs5Z7N_"
      },
      "execution_count": null,
      "outputs": []
    },
    {
      "cell_type": "code",
      "source": [
        "%tensorflow_version 2.x"
      ],
      "metadata": {
        "colab": {
          "base_uri": "https://localhost:8080/"
        },
        "id": "dVXm6TnMMgBb",
        "outputId": "1be7c754-4a18-40a0-a725-97d151683f0d"
      },
      "execution_count": 2,
      "outputs": [
        {
          "output_type": "stream",
          "name": "stdout",
          "text": [
            "Colab only includes TensorFlow 2.x; %tensorflow_version has no effect.\n"
          ]
        }
      ]
    },
    {
      "cell_type": "code",
      "source": [
        "import pandas as pd\n",
        "from sklearn.model_selection import train_test_split\n",
        "from __future__ import absolute_import, division, print_function, unicode_literals\n",
        "import tensorflow as tf\n",
        "import numpy as np\n",
        "import matplotlib.pyplot as plt\n",
        "import seaborn as sns\n",
        "\n"
      ],
      "metadata": {
        "id": "CthLb1p6MgwQ"
      },
      "execution_count": 38,
      "outputs": []
    },
    {
      "cell_type": "code",
      "source": [
        "CSV_COLUMN_NAMES = [\n",
        "    \"Delta_TP9\", \"Delta_AF7\", \"Delta_AF8\", \"Delta_TP10\",\n",
        "    \"Theta_TP9\", \"Theta_AF7\", \"Theta_AF8\", \"Theta_TP10\",\n",
        "    \"Alpha_TP9\", \"Alpha_AF7\", \"Alpha_AF8\", \"Alpha_TP10\",\n",
        "    \"Beta_TP9\", \"Beta_AF7\", \"Beta_AF8\", \"Beta_TP10\",\n",
        "    \"Gamma_TP9\", \"Gamma_AF7\", \"Gamma_AF8\", \"Gamma_TP10\",\n",
        "    \"RAW_TP9\", \"RAW_AF7\", \"RAW_AF8\", \"RAW_TP10\",\"right/left\"\n",
        "\n",
        "]\n",
        "SPECIES = [\"yes\",\"no\"] # left for yes / right for no"
      ],
      "metadata": {
        "id": "X38DFmaCAeVc"
      },
      "execution_count": 6,
      "outputs": []
    },
    {
      "cell_type": "code",
      "source": [
        "# Load the CSV file into a DataFrame\n",
        "df = pd.read_csv('/content/modified_file.csv')"
      ],
      "metadata": {
        "id": "F3atNCLVToml"
      },
      "execution_count": 23,
      "outputs": []
    },
    {
      "cell_type": "code",
      "source": [
        "\n",
        "\n",
        "# Check for NaN and inf values\n",
        "print(df[\"right/left\"].isna().sum())  # Count NaN values\n",
        "# Replace NaN values with 'Left' (or you can use any other label)\n",
        "df[\"right/left\"] = df[\"right/left\"].fillna('Left')\n",
        "\n",
        "\n",
        "# Map string labels to integers\n",
        "label_mapping = {'Left': 0, 'Right': 1}\n",
        "df[\"right/left\"] = df[\"right/left\"].map(label_mapping)\n",
        "\n",
        "# Convert to integers\n",
        "df[\"right/left\"] = df[\"right/left\"].astype(int)\n",
        "\n",
        "print(df)\n",
        "\n",
        "\n"
      ],
      "metadata": {
        "colab": {
          "base_uri": "https://localhost:8080/"
        },
        "id": "8egIFpYeTrU7",
        "outputId": "b4e17434-db54-41a9-ec5b-267105413662"
      },
      "execution_count": 49,
      "outputs": [
        {
          "output_type": "stream",
          "name": "stdout",
          "text": [
            "89991\n",
            "       Delta_TP9  Delta_AF7  Delta_AF8  Delta_TP10  Theta_TP9  Theta_AF7  \\\n",
            "0       1.102887   1.262566   0.024823    1.544324   0.770112   0.800736   \n",
            "1       1.102887   1.262566   0.024823    1.544324   0.770112   0.800736   \n",
            "2       1.102887   1.262566   0.024823    1.544324   0.770112   0.800736   \n",
            "3       1.102887   1.262566   0.024823    1.544324   0.770112   0.800736   \n",
            "4       1.102887   1.262566   0.024823    1.544324   0.770112   0.800736   \n",
            "...          ...        ...        ...         ...        ...        ...   \n",
            "89986   0.348999   0.006678  -0.100262    0.349925   0.488359  -0.140281   \n",
            "89987   0.348999   0.006678  -0.100262    0.349925   0.488359  -0.140281   \n",
            "89988   0.348999   0.006678  -0.100262    0.349925   0.488359  -0.140281   \n",
            "89989   0.348999   0.006678  -0.100262    0.349925   0.488359  -0.140281   \n",
            "89990        NaN        NaN        NaN         NaN        NaN        NaN   \n",
            "\n",
            "       Theta_AF8  Theta_TP10  Alpha_TP9  Alpha_AF7  ...  Beta_TP10  Gamma_TP9  \\\n",
            "0      -0.057119    1.061762   1.501621   1.489976  ...   0.737752  -0.224510   \n",
            "1      -0.057119    1.061762   1.501621   1.489976  ...   0.737752  -0.224510   \n",
            "2      -0.057119    1.061762   1.501621   1.489976  ...   0.737752  -0.224510   \n",
            "3      -0.057119    1.061762   1.501621   1.489976  ...   0.737752  -0.224510   \n",
            "4      -0.057119    1.061762   1.501621   1.489976  ...   0.737752  -0.224510   \n",
            "...          ...         ...        ...        ...  ...        ...        ...   \n",
            "89986  -0.132571    0.222160   0.691857   0.029853  ...   0.155141  -0.373555   \n",
            "89987  -0.132571    0.222160   0.691857   0.029853  ...   0.155141  -0.373555   \n",
            "89988  -0.132571    0.222160   0.691857   0.029853  ...   0.155141  -0.373555   \n",
            "89989  -0.132571    0.222160   0.691857   0.029853  ...   0.155141  -0.373555   \n",
            "89990        NaN         NaN        NaN        NaN  ...        NaN        NaN   \n",
            "\n",
            "       Gamma_AF7  Gamma_AF8  Gamma_TP10    RAW_TP9    RAW_AF7    RAW_AF8  \\\n",
            "0      -0.169288  -0.398803    0.164980  791.75824  794.98170  793.77290   \n",
            "1      -0.169288  -0.398803    0.164980  793.36993  793.77290  799.41394   \n",
            "2      -0.169288  -0.398803    0.164980  791.75824  795.78754  806.66670   \n",
            "3      -0.169288  -0.398803    0.164980  789.74360  800.62270  801.42860   \n",
            "4      -0.169288  -0.398803    0.164980  786.52014  798.20514  794.98170   \n",
            "...          ...        ...         ...        ...        ...        ...   \n",
            "89986  -0.258500  -0.569996   -0.312344  790.54944  803.04030  788.53480   \n",
            "89987  -0.258500  -0.569996   -0.312344  789.74360  799.41394  784.90845   \n",
            "89988  -0.258500  -0.569996   -0.312344  792.16120  801.02563  786.52014   \n",
            "89989  -0.258500  -0.569996   -0.312344  788.53480  803.04030  789.74360   \n",
            "89990        NaN        NaN         NaN        NaN        NaN        NaN   \n",
            "\n",
            "        RAW_TP10  right/left  \n",
            "0      793.77290           0  \n",
            "1      800.62270           0  \n",
            "2      801.83150           0  \n",
            "3      800.62270           0  \n",
            "4      791.75824           0  \n",
            "...          ...         ...  \n",
            "89986  788.13190           0  \n",
            "89987  786.52014           0  \n",
            "89988  788.93774           0  \n",
            "89989  787.72894           0  \n",
            "89990        NaN           0  \n",
            "\n",
            "[89991 rows x 25 columns]\n"
          ]
        }
      ]
    },
    {
      "cell_type": "code",
      "source": [
        "\n",
        "\n",
        "\n",
        "\n",
        "\n",
        "\n",
        "# Optionally, separate features (X) and target (y)\n",
        "# Assuming the target column is 'target_column'\n",
        "X = df.drop(columns=['right/left'])  # Drop the target column for features\n",
        "y = df['right/left']  # Extract the target column\n",
        "\n",
        "# Split the data into training and testing sets (80% train, 20% test by default)\n",
        "X_train, X_test, y_train, y_test = train_test_split(X, y, test_size=0.2, random_state=42)\n",
        "\n",
        "# Optionally, you can combine X_train and y_train back into a single DataFrame if needed\n",
        "train_data = pd.concat([X_train, y_train], axis=1)\n",
        "test_data = pd.concat([X_test, y_test], axis=1)\n",
        "\n",
        "# Save the training and testing data to new CSV files\n",
        "train_data.to_csv('train_data.csv', index=False)\n",
        "test_data.to_csv('test_data.csv', index=False)\n",
        "\n",
        "# Optionally, print out a sample to verify\n",
        "print(train_data.head())\n",
        "print(test_data.head())\n"
      ],
      "metadata": {
        "colab": {
          "base_uri": "https://localhost:8080/"
        },
        "id": "jfipnVX8Qj-H",
        "outputId": "5cee6ef8-4f7f-4084-e2b7-73f509fda963"
      },
      "execution_count": 26,
      "outputs": [
        {
          "output_type": "stream",
          "name": "stdout",
          "text": [
            "       Delta_TP9  Delta_AF7  Delta_AF8  Delta_TP10  Theta_TP9  Theta_AF7  \\\n",
            "50730   0.681039  -0.152555  -0.211617    0.607010   0.774497  -0.204250   \n",
            "56791   1.005352   2.597210   0.576993    1.810169   0.560269   1.680472   \n",
            "5366    1.117887   1.507663   0.925242    0.881698   0.986135   0.835130   \n",
            "27667   1.208331   0.995906   0.818192    1.459872   0.862069   0.624885   \n",
            "71956   2.084279   2.893940   1.594435    1.555646   1.464639   1.854602   \n",
            "\n",
            "       Theta_AF8  Theta_TP10  Alpha_TP9  Alpha_AF7  ...  Beta_TP10  Gamma_TP9  \\\n",
            "50730  -0.079743    0.217495   0.693703   0.263124  ...   0.538577  -0.139355   \n",
            "56791   0.126291    1.318649   1.036923   2.297650  ...   0.820653   0.165596   \n",
            "5366    0.550252    0.509214   1.445504   1.261002  ...   0.213720   0.024792   \n",
            "27667   0.549010    1.037330   1.388972   1.388731  ...   0.850965   0.322536   \n",
            "71956   1.007977    1.145780   1.693483   2.261787  ...   0.943455   0.363564   \n",
            "\n",
            "       Gamma_AF7  Gamma_AF8  Gamma_TP10    RAW_TP9    RAW_AF7    RAW_AF8  \\\n",
            "50730  -0.006702  -0.145701    0.432196  804.24910  799.41394  798.20514   \n",
            "56791   0.690795  -0.103071    0.379955  789.34064  799.81683  798.20514   \n",
            "5366    0.020582  -0.257202    0.096093  801.42860  803.04030  794.17584   \n",
            "27667   0.098025   0.005555    0.387625  799.81683  795.38464  801.02563   \n",
            "71956   0.797475   0.202729    0.387434  814.72530  801.83150  802.63740   \n",
            "\n",
            "        RAW_TP10  right/left  \n",
            "50730  797.39930           0  \n",
            "56791  793.36993           1  \n",
            "5366         NaN           0  \n",
            "27667  801.42860           0  \n",
            "71956        NaN           1  \n",
            "\n",
            "[5 rows x 25 columns]\n",
            "       Delta_TP9  Delta_AF7  Delta_AF8  Delta_TP10  Theta_TP9  Theta_AF7  \\\n",
            "64931   0.302724   0.142198   0.124913    0.241016   0.896795   0.007749   \n",
            "25593   0.943389   0.854416   0.911987    0.456569   0.706895   0.467549   \n",
            "7208    1.026545   1.935296   0.911176    1.547949   0.830618   1.209456   \n",
            "27379   1.400798   1.370783   0.762253    1.495717   1.032901   0.937349   \n",
            "72423   1.182455   3.011567   1.333479    2.259628   0.992993   2.087253   \n",
            "\n",
            "       Theta_AF8  Theta_TP10  Alpha_TP9  Alpha_AF7  ...  Beta_TP10  Gamma_TP9  \\\n",
            "64931   0.202502    0.802822   1.209937   0.205551  ...   0.392980  -0.373084   \n",
            "25593   0.459457    0.611806   1.437950   1.409010  ...   0.424792  -0.078245   \n",
            "7208    0.615760    1.021782   1.531455   1.560148  ...   0.601612  -0.211028   \n",
            "27379   0.502558    1.014356   1.529932   1.484112  ...   0.769137   0.145758   \n",
            "72423   0.840309    1.514806   1.531318   2.454558  ...   1.053861   0.100882   \n",
            "\n",
            "       Gamma_AF7  Gamma_AF8  Gamma_TP10    RAW_TP9    RAW_AF7    RAW_AF8  \\\n",
            "64931  -0.695757  -0.407701    0.008997  805.05493  808.27840  799.41394   \n",
            "25593  -0.274652  -0.225737    0.248895  796.99634  800.62270  797.80220   \n",
            "7208    0.181143  -0.215903    0.119000  788.53480  802.63740  787.72894   \n",
            "27379   0.006300  -0.071914    0.441947  794.17584  795.38464  788.93774   \n",
            "72423   1.014324   0.080765    0.475947  801.42860  803.04030  794.98170   \n",
            "\n",
            "        RAW_TP10  right/left  \n",
            "64931  793.77290           0  \n",
            "25593  805.86080           0  \n",
            "7208   779.67035           1  \n",
            "27379  796.19050           0  \n",
            "72423        NaN           1  \n",
            "\n",
            "[5 rows x 25 columns]\n"
          ]
        }
      ]
    },
    {
      "cell_type": "code",
      "source": [
        "train = pd.read_csv('train_data.csv')\n",
        "test = pd.read_csv('test_data.csv')\n",
        "# Count how many Left and Right labels are in the 'right/left' column\n",
        "counts = train['right/left'].value_counts()\n",
        "count = test['right/left'].value_counts()\n",
        "\n",
        "# Print the counts\n",
        "#print(counts,count)\n",
        "\n",
        "# Check for NaN values in your data\n",
        "print(np.isnan(train).sum())  # X_train is your feature data\n",
        "print(np.isnan(test).sum())  # y_train is your target data\n"
      ],
      "metadata": {
        "colab": {
          "base_uri": "https://localhost:8080/"
        },
        "id": "o7WdNPd6Qojv",
        "outputId": "ae1f56ed-1583-48fc-82a0-406c32a6d69e"
      },
      "execution_count": 53,
      "outputs": [
        {
          "output_type": "stream",
          "name": "stdout",
          "text": [
            "Delta_TP9       15\n",
            "Delta_AF7       15\n",
            "Delta_AF8       15\n",
            "Delta_TP10      15\n",
            "Theta_TP9       15\n",
            "Theta_AF7       15\n",
            "Theta_AF8       15\n",
            "Theta_TP10      15\n",
            "Alpha_TP9       15\n",
            "Alpha_AF7       15\n",
            "Alpha_AF8       15\n",
            "Alpha_TP10      15\n",
            "Beta_TP9        15\n",
            "Beta_AF7        15\n",
            "Beta_AF8        15\n",
            "Beta_TP10       15\n",
            "Gamma_TP9       15\n",
            "Gamma_AF7       15\n",
            "Gamma_AF8       15\n",
            "Gamma_TP10      15\n",
            "RAW_TP9       5928\n",
            "RAW_AF7       8868\n",
            "RAW_AF8       2902\n",
            "RAW_TP10      7535\n",
            "right/left       0\n",
            "dtype: int64\n",
            "Delta_TP9        7\n",
            "Delta_AF7        7\n",
            "Delta_AF8        7\n",
            "Delta_TP10       7\n",
            "Theta_TP9        7\n",
            "Theta_AF7        7\n",
            "Theta_AF8        7\n",
            "Theta_TP10       7\n",
            "Alpha_TP9        7\n",
            "Alpha_AF7        7\n",
            "Alpha_AF8        7\n",
            "Alpha_TP10       7\n",
            "Beta_TP9         7\n",
            "Beta_AF7         7\n",
            "Beta_AF8         7\n",
            "Beta_TP10        7\n",
            "Gamma_TP9        7\n",
            "Gamma_AF7        7\n",
            "Gamma_AF8        7\n",
            "Gamma_TP10       7\n",
            "RAW_TP9       1342\n",
            "RAW_AF7       2146\n",
            "RAW_AF8        648\n",
            "RAW_TP10      1811\n",
            "right/left       0\n",
            "dtype: int64\n"
          ]
        }
      ]
    },
    {
      "cell_type": "code",
      "source": [
        "# Replace NaN values with a placeholder (e.g., 0 or mean of the column)\n",
        "train = np.nan_to_num(train, nan=0)  # Replace NaNs with 0\n",
        "test = np.nan_to_num(test, nan=0)  # Replace NaNs with 0\n",
        "\n",
        "# Check for NaN values in your data\n",
        "print(np.isnan(train).sum())  # X_train is your feature data\n",
        "print(np.isnan(test).sum())  # y_train is your target data"
      ],
      "metadata": {
        "colab": {
          "base_uri": "https://localhost:8080/"
        },
        "id": "sFHQc3HEYm5g",
        "outputId": "8290e673-715a-458f-b67d-8836e6c8355a"
      },
      "execution_count": 52,
      "outputs": [
        {
          "output_type": "stream",
          "name": "stdout",
          "text": [
            "0\n",
            "0\n"
          ]
        }
      ]
    },
    {
      "cell_type": "code",
      "source": [
        "train[\"right/left\"].value_counts()"
      ],
      "metadata": {
        "colab": {
          "base_uri": "https://localhost:8080/",
          "height": 178
        },
        "id": "szAGXO4DYzU3",
        "outputId": "5b5972e7-e18f-4ffe-b8bf-252268e0d858"
      },
      "execution_count": 57,
      "outputs": [
        {
          "output_type": "execute_result",
          "data": {
            "text/plain": [
              "right/left\n",
              "0    42919\n",
              "1    29073\n",
              "Name: count, dtype: int64"
            ],
            "text/html": [
              "<div>\n",
              "<style scoped>\n",
              "    .dataframe tbody tr th:only-of-type {\n",
              "        vertical-align: middle;\n",
              "    }\n",
              "\n",
              "    .dataframe tbody tr th {\n",
              "        vertical-align: top;\n",
              "    }\n",
              "\n",
              "    .dataframe thead th {\n",
              "        text-align: right;\n",
              "    }\n",
              "</style>\n",
              "<table border=\"1\" class=\"dataframe\">\n",
              "  <thead>\n",
              "    <tr style=\"text-align: right;\">\n",
              "      <th></th>\n",
              "      <th>count</th>\n",
              "    </tr>\n",
              "    <tr>\n",
              "      <th>right/left</th>\n",
              "      <th></th>\n",
              "    </tr>\n",
              "  </thead>\n",
              "  <tbody>\n",
              "    <tr>\n",
              "      <th>0</th>\n",
              "      <td>42919</td>\n",
              "    </tr>\n",
              "    <tr>\n",
              "      <th>1</th>\n",
              "      <td>29073</td>\n",
              "    </tr>\n",
              "  </tbody>\n",
              "</table>\n",
              "</div><br><label><b>dtype:</b> int64</label>"
            ]
          },
          "metadata": {},
          "execution_count": 57
        }
      ]
    },
    {
      "cell_type": "code",
      "source": [
        "train.head()"
      ],
      "metadata": {
        "colab": {
          "base_uri": "https://localhost:8080/",
          "height": 255
        },
        "id": "Azskk775RfSn",
        "outputId": "1d206a5e-ad58-4b77-c3c8-c64b2d55e6f3"
      },
      "execution_count": 28,
      "outputs": [
        {
          "output_type": "execute_result",
          "data": {
            "text/plain": [
              "   Delta_TP9  Delta_AF7  Delta_AF8  Delta_TP10  Theta_TP9  Theta_AF7  \\\n",
              "0   0.681039  -0.152555  -0.211617    0.607010   0.774497  -0.204250   \n",
              "1   1.005352   2.597210   0.576993    1.810169   0.560269   1.680472   \n",
              "2   1.117887   1.507663   0.925242    0.881698   0.986135   0.835130   \n",
              "3   1.208331   0.995906   0.818192    1.459872   0.862069   0.624885   \n",
              "4   2.084279   2.893940   1.594435    1.555646   1.464639   1.854602   \n",
              "\n",
              "   Theta_AF8  Theta_TP10  Alpha_TP9  Alpha_AF7  ...  Beta_TP10  Gamma_TP9  \\\n",
              "0  -0.079743    0.217495   0.693703   0.263124  ...   0.538577  -0.139355   \n",
              "1   0.126291    1.318649   1.036923   2.297650  ...   0.820653   0.165596   \n",
              "2   0.550252    0.509214   1.445504   1.261002  ...   0.213720   0.024792   \n",
              "3   0.549010    1.037330   1.388972   1.388731  ...   0.850965   0.322536   \n",
              "4   1.007977    1.145780   1.693483   2.261787  ...   0.943455   0.363564   \n",
              "\n",
              "   Gamma_AF7  Gamma_AF8  Gamma_TP10    RAW_TP9    RAW_AF7    RAW_AF8  \\\n",
              "0  -0.006702  -0.145701    0.432196  804.24910  799.41394  798.20514   \n",
              "1   0.690795  -0.103071    0.379955  789.34064  799.81683  798.20514   \n",
              "2   0.020582  -0.257202    0.096093  801.42860  803.04030  794.17584   \n",
              "3   0.098025   0.005555    0.387625  799.81683  795.38464  801.02563   \n",
              "4   0.797475   0.202729    0.387434  814.72530  801.83150  802.63740   \n",
              "\n",
              "    RAW_TP10  right/left  \n",
              "0  797.39930           0  \n",
              "1  793.36993           1  \n",
              "2        NaN           0  \n",
              "3  801.42860           0  \n",
              "4        NaN           1  \n",
              "\n",
              "[5 rows x 25 columns]"
            ],
            "text/html": [
              "\n",
              "  <div id=\"df-571ba77e-93ef-4ce3-8b0b-ec29c62188dd\" class=\"colab-df-container\">\n",
              "    <div>\n",
              "<style scoped>\n",
              "    .dataframe tbody tr th:only-of-type {\n",
              "        vertical-align: middle;\n",
              "    }\n",
              "\n",
              "    .dataframe tbody tr th {\n",
              "        vertical-align: top;\n",
              "    }\n",
              "\n",
              "    .dataframe thead th {\n",
              "        text-align: right;\n",
              "    }\n",
              "</style>\n",
              "<table border=\"1\" class=\"dataframe\">\n",
              "  <thead>\n",
              "    <tr style=\"text-align: right;\">\n",
              "      <th></th>\n",
              "      <th>Delta_TP9</th>\n",
              "      <th>Delta_AF7</th>\n",
              "      <th>Delta_AF8</th>\n",
              "      <th>Delta_TP10</th>\n",
              "      <th>Theta_TP9</th>\n",
              "      <th>Theta_AF7</th>\n",
              "      <th>Theta_AF8</th>\n",
              "      <th>Theta_TP10</th>\n",
              "      <th>Alpha_TP9</th>\n",
              "      <th>Alpha_AF7</th>\n",
              "      <th>...</th>\n",
              "      <th>Beta_TP10</th>\n",
              "      <th>Gamma_TP9</th>\n",
              "      <th>Gamma_AF7</th>\n",
              "      <th>Gamma_AF8</th>\n",
              "      <th>Gamma_TP10</th>\n",
              "      <th>RAW_TP9</th>\n",
              "      <th>RAW_AF7</th>\n",
              "      <th>RAW_AF8</th>\n",
              "      <th>RAW_TP10</th>\n",
              "      <th>right/left</th>\n",
              "    </tr>\n",
              "  </thead>\n",
              "  <tbody>\n",
              "    <tr>\n",
              "      <th>0</th>\n",
              "      <td>0.681039</td>\n",
              "      <td>-0.152555</td>\n",
              "      <td>-0.211617</td>\n",
              "      <td>0.607010</td>\n",
              "      <td>0.774497</td>\n",
              "      <td>-0.204250</td>\n",
              "      <td>-0.079743</td>\n",
              "      <td>0.217495</td>\n",
              "      <td>0.693703</td>\n",
              "      <td>0.263124</td>\n",
              "      <td>...</td>\n",
              "      <td>0.538577</td>\n",
              "      <td>-0.139355</td>\n",
              "      <td>-0.006702</td>\n",
              "      <td>-0.145701</td>\n",
              "      <td>0.432196</td>\n",
              "      <td>804.24910</td>\n",
              "      <td>799.41394</td>\n",
              "      <td>798.20514</td>\n",
              "      <td>797.39930</td>\n",
              "      <td>0</td>\n",
              "    </tr>\n",
              "    <tr>\n",
              "      <th>1</th>\n",
              "      <td>1.005352</td>\n",
              "      <td>2.597210</td>\n",
              "      <td>0.576993</td>\n",
              "      <td>1.810169</td>\n",
              "      <td>0.560269</td>\n",
              "      <td>1.680472</td>\n",
              "      <td>0.126291</td>\n",
              "      <td>1.318649</td>\n",
              "      <td>1.036923</td>\n",
              "      <td>2.297650</td>\n",
              "      <td>...</td>\n",
              "      <td>0.820653</td>\n",
              "      <td>0.165596</td>\n",
              "      <td>0.690795</td>\n",
              "      <td>-0.103071</td>\n",
              "      <td>0.379955</td>\n",
              "      <td>789.34064</td>\n",
              "      <td>799.81683</td>\n",
              "      <td>798.20514</td>\n",
              "      <td>793.36993</td>\n",
              "      <td>1</td>\n",
              "    </tr>\n",
              "    <tr>\n",
              "      <th>2</th>\n",
              "      <td>1.117887</td>\n",
              "      <td>1.507663</td>\n",
              "      <td>0.925242</td>\n",
              "      <td>0.881698</td>\n",
              "      <td>0.986135</td>\n",
              "      <td>0.835130</td>\n",
              "      <td>0.550252</td>\n",
              "      <td>0.509214</td>\n",
              "      <td>1.445504</td>\n",
              "      <td>1.261002</td>\n",
              "      <td>...</td>\n",
              "      <td>0.213720</td>\n",
              "      <td>0.024792</td>\n",
              "      <td>0.020582</td>\n",
              "      <td>-0.257202</td>\n",
              "      <td>0.096093</td>\n",
              "      <td>801.42860</td>\n",
              "      <td>803.04030</td>\n",
              "      <td>794.17584</td>\n",
              "      <td>NaN</td>\n",
              "      <td>0</td>\n",
              "    </tr>\n",
              "    <tr>\n",
              "      <th>3</th>\n",
              "      <td>1.208331</td>\n",
              "      <td>0.995906</td>\n",
              "      <td>0.818192</td>\n",
              "      <td>1.459872</td>\n",
              "      <td>0.862069</td>\n",
              "      <td>0.624885</td>\n",
              "      <td>0.549010</td>\n",
              "      <td>1.037330</td>\n",
              "      <td>1.388972</td>\n",
              "      <td>1.388731</td>\n",
              "      <td>...</td>\n",
              "      <td>0.850965</td>\n",
              "      <td>0.322536</td>\n",
              "      <td>0.098025</td>\n",
              "      <td>0.005555</td>\n",
              "      <td>0.387625</td>\n",
              "      <td>799.81683</td>\n",
              "      <td>795.38464</td>\n",
              "      <td>801.02563</td>\n",
              "      <td>801.42860</td>\n",
              "      <td>0</td>\n",
              "    </tr>\n",
              "    <tr>\n",
              "      <th>4</th>\n",
              "      <td>2.084279</td>\n",
              "      <td>2.893940</td>\n",
              "      <td>1.594435</td>\n",
              "      <td>1.555646</td>\n",
              "      <td>1.464639</td>\n",
              "      <td>1.854602</td>\n",
              "      <td>1.007977</td>\n",
              "      <td>1.145780</td>\n",
              "      <td>1.693483</td>\n",
              "      <td>2.261787</td>\n",
              "      <td>...</td>\n",
              "      <td>0.943455</td>\n",
              "      <td>0.363564</td>\n",
              "      <td>0.797475</td>\n",
              "      <td>0.202729</td>\n",
              "      <td>0.387434</td>\n",
              "      <td>814.72530</td>\n",
              "      <td>801.83150</td>\n",
              "      <td>802.63740</td>\n",
              "      <td>NaN</td>\n",
              "      <td>1</td>\n",
              "    </tr>\n",
              "  </tbody>\n",
              "</table>\n",
              "<p>5 rows × 25 columns</p>\n",
              "</div>\n",
              "    <div class=\"colab-df-buttons\">\n",
              "\n",
              "  <div class=\"colab-df-container\">\n",
              "    <button class=\"colab-df-convert\" onclick=\"convertToInteractive('df-571ba77e-93ef-4ce3-8b0b-ec29c62188dd')\"\n",
              "            title=\"Convert this dataframe to an interactive table.\"\n",
              "            style=\"display:none;\">\n",
              "\n",
              "  <svg xmlns=\"http://www.w3.org/2000/svg\" height=\"24px\" viewBox=\"0 -960 960 960\">\n",
              "    <path d=\"M120-120v-720h720v720H120Zm60-500h600v-160H180v160Zm220 220h160v-160H400v160Zm0 220h160v-160H400v160ZM180-400h160v-160H180v160Zm440 0h160v-160H620v160ZM180-180h160v-160H180v160Zm440 0h160v-160H620v160Z\"/>\n",
              "  </svg>\n",
              "    </button>\n",
              "\n",
              "  <style>\n",
              "    .colab-df-container {\n",
              "      display:flex;\n",
              "      gap: 12px;\n",
              "    }\n",
              "\n",
              "    .colab-df-convert {\n",
              "      background-color: #E8F0FE;\n",
              "      border: none;\n",
              "      border-radius: 50%;\n",
              "      cursor: pointer;\n",
              "      display: none;\n",
              "      fill: #1967D2;\n",
              "      height: 32px;\n",
              "      padding: 0 0 0 0;\n",
              "      width: 32px;\n",
              "    }\n",
              "\n",
              "    .colab-df-convert:hover {\n",
              "      background-color: #E2EBFA;\n",
              "      box-shadow: 0px 1px 2px rgba(60, 64, 67, 0.3), 0px 1px 3px 1px rgba(60, 64, 67, 0.15);\n",
              "      fill: #174EA6;\n",
              "    }\n",
              "\n",
              "    .colab-df-buttons div {\n",
              "      margin-bottom: 4px;\n",
              "    }\n",
              "\n",
              "    [theme=dark] .colab-df-convert {\n",
              "      background-color: #3B4455;\n",
              "      fill: #D2E3FC;\n",
              "    }\n",
              "\n",
              "    [theme=dark] .colab-df-convert:hover {\n",
              "      background-color: #434B5C;\n",
              "      box-shadow: 0px 1px 3px 1px rgba(0, 0, 0, 0.15);\n",
              "      filter: drop-shadow(0px 1px 2px rgba(0, 0, 0, 0.3));\n",
              "      fill: #FFFFFF;\n",
              "    }\n",
              "  </style>\n",
              "\n",
              "    <script>\n",
              "      const buttonEl =\n",
              "        document.querySelector('#df-571ba77e-93ef-4ce3-8b0b-ec29c62188dd button.colab-df-convert');\n",
              "      buttonEl.style.display =\n",
              "        google.colab.kernel.accessAllowed ? 'block' : 'none';\n",
              "\n",
              "      async function convertToInteractive(key) {\n",
              "        const element = document.querySelector('#df-571ba77e-93ef-4ce3-8b0b-ec29c62188dd');\n",
              "        const dataTable =\n",
              "          await google.colab.kernel.invokeFunction('convertToInteractive',\n",
              "                                                    [key], {});\n",
              "        if (!dataTable) return;\n",
              "\n",
              "        const docLinkHtml = 'Like what you see? Visit the ' +\n",
              "          '<a target=\"_blank\" href=https://colab.research.google.com/notebooks/data_table.ipynb>data table notebook</a>'\n",
              "          + ' to learn more about interactive tables.';\n",
              "        element.innerHTML = '';\n",
              "        dataTable['output_type'] = 'display_data';\n",
              "        await google.colab.output.renderOutput(dataTable, element);\n",
              "        const docLink = document.createElement('div');\n",
              "        docLink.innerHTML = docLinkHtml;\n",
              "        element.appendChild(docLink);\n",
              "      }\n",
              "    </script>\n",
              "  </div>\n",
              "\n",
              "\n",
              "<div id=\"df-aa6fa15b-3be5-4b9e-90fd-1977668422ac\">\n",
              "  <button class=\"colab-df-quickchart\" onclick=\"quickchart('df-aa6fa15b-3be5-4b9e-90fd-1977668422ac')\"\n",
              "            title=\"Suggest charts\"\n",
              "            style=\"display:none;\">\n",
              "\n",
              "<svg xmlns=\"http://www.w3.org/2000/svg\" height=\"24px\"viewBox=\"0 0 24 24\"\n",
              "     width=\"24px\">\n",
              "    <g>\n",
              "        <path d=\"M19 3H5c-1.1 0-2 .9-2 2v14c0 1.1.9 2 2 2h14c1.1 0 2-.9 2-2V5c0-1.1-.9-2-2-2zM9 17H7v-7h2v7zm4 0h-2V7h2v10zm4 0h-2v-4h2v4z\"/>\n",
              "    </g>\n",
              "</svg>\n",
              "  </button>\n",
              "\n",
              "<style>\n",
              "  .colab-df-quickchart {\n",
              "      --bg-color: #E8F0FE;\n",
              "      --fill-color: #1967D2;\n",
              "      --hover-bg-color: #E2EBFA;\n",
              "      --hover-fill-color: #174EA6;\n",
              "      --disabled-fill-color: #AAA;\n",
              "      --disabled-bg-color: #DDD;\n",
              "  }\n",
              "\n",
              "  [theme=dark] .colab-df-quickchart {\n",
              "      --bg-color: #3B4455;\n",
              "      --fill-color: #D2E3FC;\n",
              "      --hover-bg-color: #434B5C;\n",
              "      --hover-fill-color: #FFFFFF;\n",
              "      --disabled-bg-color: #3B4455;\n",
              "      --disabled-fill-color: #666;\n",
              "  }\n",
              "\n",
              "  .colab-df-quickchart {\n",
              "    background-color: var(--bg-color);\n",
              "    border: none;\n",
              "    border-radius: 50%;\n",
              "    cursor: pointer;\n",
              "    display: none;\n",
              "    fill: var(--fill-color);\n",
              "    height: 32px;\n",
              "    padding: 0;\n",
              "    width: 32px;\n",
              "  }\n",
              "\n",
              "  .colab-df-quickchart:hover {\n",
              "    background-color: var(--hover-bg-color);\n",
              "    box-shadow: 0 1px 2px rgba(60, 64, 67, 0.3), 0 1px 3px 1px rgba(60, 64, 67, 0.15);\n",
              "    fill: var(--button-hover-fill-color);\n",
              "  }\n",
              "\n",
              "  .colab-df-quickchart-complete:disabled,\n",
              "  .colab-df-quickchart-complete:disabled:hover {\n",
              "    background-color: var(--disabled-bg-color);\n",
              "    fill: var(--disabled-fill-color);\n",
              "    box-shadow: none;\n",
              "  }\n",
              "\n",
              "  .colab-df-spinner {\n",
              "    border: 2px solid var(--fill-color);\n",
              "    border-color: transparent;\n",
              "    border-bottom-color: var(--fill-color);\n",
              "    animation:\n",
              "      spin 1s steps(1) infinite;\n",
              "  }\n",
              "\n",
              "  @keyframes spin {\n",
              "    0% {\n",
              "      border-color: transparent;\n",
              "      border-bottom-color: var(--fill-color);\n",
              "      border-left-color: var(--fill-color);\n",
              "    }\n",
              "    20% {\n",
              "      border-color: transparent;\n",
              "      border-left-color: var(--fill-color);\n",
              "      border-top-color: var(--fill-color);\n",
              "    }\n",
              "    30% {\n",
              "      border-color: transparent;\n",
              "      border-left-color: var(--fill-color);\n",
              "      border-top-color: var(--fill-color);\n",
              "      border-right-color: var(--fill-color);\n",
              "    }\n",
              "    40% {\n",
              "      border-color: transparent;\n",
              "      border-right-color: var(--fill-color);\n",
              "      border-top-color: var(--fill-color);\n",
              "    }\n",
              "    60% {\n",
              "      border-color: transparent;\n",
              "      border-right-color: var(--fill-color);\n",
              "    }\n",
              "    80% {\n",
              "      border-color: transparent;\n",
              "      border-right-color: var(--fill-color);\n",
              "      border-bottom-color: var(--fill-color);\n",
              "    }\n",
              "    90% {\n",
              "      border-color: transparent;\n",
              "      border-bottom-color: var(--fill-color);\n",
              "    }\n",
              "  }\n",
              "</style>\n",
              "\n",
              "  <script>\n",
              "    async function quickchart(key) {\n",
              "      const quickchartButtonEl =\n",
              "        document.querySelector('#' + key + ' button');\n",
              "      quickchartButtonEl.disabled = true;  // To prevent multiple clicks.\n",
              "      quickchartButtonEl.classList.add('colab-df-spinner');\n",
              "      try {\n",
              "        const charts = await google.colab.kernel.invokeFunction(\n",
              "            'suggestCharts', [key], {});\n",
              "      } catch (error) {\n",
              "        console.error('Error during call to suggestCharts:', error);\n",
              "      }\n",
              "      quickchartButtonEl.classList.remove('colab-df-spinner');\n",
              "      quickchartButtonEl.classList.add('colab-df-quickchart-complete');\n",
              "    }\n",
              "    (() => {\n",
              "      let quickchartButtonEl =\n",
              "        document.querySelector('#df-aa6fa15b-3be5-4b9e-90fd-1977668422ac button');\n",
              "      quickchartButtonEl.style.display =\n",
              "        google.colab.kernel.accessAllowed ? 'block' : 'none';\n",
              "    })();\n",
              "  </script>\n",
              "</div>\n",
              "\n",
              "    </div>\n",
              "  </div>\n"
            ],
            "application/vnd.google.colaboratory.intrinsic+json": {
              "type": "dataframe",
              "variable_name": "train"
            }
          },
          "metadata": {},
          "execution_count": 28
        }
      ]
    },
    {
      "cell_type": "code",
      "source": [
        "train_y = train.pop('right/left')\n",
        "test_y = test.pop('right/left')"
      ],
      "metadata": {
        "id": "93mU8jyGRb1v"
      },
      "execution_count": 58,
      "outputs": []
    },
    {
      "cell_type": "code",
      "source": [
        "# Replace NaN values with a placeholder (e.g., 0 or mean of the column)\n",
        "train = np.nan_to_num(train, nan=0)  # Replace NaNs with 0\n",
        "test = np.nan_to_num(test, nan=0)  # Replace NaNs with 0\n",
        "\n",
        "# Check for NaN values in your data\n",
        "print(np.isnan(train).sum())  # X_train is your feature data\n",
        "print(np.isnan(test).sum())  # y_train is your target data\n"
      ],
      "metadata": {
        "colab": {
          "base_uri": "https://localhost:8080/"
        },
        "id": "cMS_6A7hVJWz",
        "outputId": "03f91e53-7c24-4800-fb72-d619c0fa9992"
      },
      "execution_count": 63,
      "outputs": [
        {
          "output_type": "stream",
          "name": "stdout",
          "text": [
            "0\n",
            "0\n"
          ]
        }
      ]
    },
    {
      "cell_type": "code",
      "source": [
        "# Count how many Left and Right labels are in the 'right/left' column\n",
        "counts = train_y.value_counts()\n",
        "count = test_y.value_counts()\n",
        "\n",
        "# Print the counts\n",
        "print(counts,count)"
      ],
      "metadata": {
        "colab": {
          "base_uri": "https://localhost:8080/"
        },
        "id": "A_2_2ixyVUaI",
        "outputId": "584c1820-c9d8-4170-8630-1b6f813beb6a"
      },
      "execution_count": 65,
      "outputs": [
        {
          "output_type": "stream",
          "name": "stdout",
          "text": [
            "right/left\n",
            "0    42919\n",
            "1    29073\n",
            "Name: count, dtype: int64 right/left\n",
            "0    10702\n",
            "1     7297\n",
            "Name: count, dtype: int64\n"
          ]
        }
      ]
    },
    {
      "cell_type": "code",
      "source": [
        "train_y.head()"
      ],
      "metadata": {
        "colab": {
          "base_uri": "https://localhost:8080/",
          "height": 241
        },
        "id": "Ojn1-KxtRnaF",
        "outputId": "570e89d2-1a6f-4309-baa6-fd6d591c6331"
      },
      "execution_count": 30,
      "outputs": [
        {
          "output_type": "execute_result",
          "data": {
            "text/plain": [
              "0    0\n",
              "1    1\n",
              "2    0\n",
              "3    0\n",
              "4    1\n",
              "Name: right/left, dtype: int64"
            ],
            "text/html": [
              "<div>\n",
              "<style scoped>\n",
              "    .dataframe tbody tr th:only-of-type {\n",
              "        vertical-align: middle;\n",
              "    }\n",
              "\n",
              "    .dataframe tbody tr th {\n",
              "        vertical-align: top;\n",
              "    }\n",
              "\n",
              "    .dataframe thead th {\n",
              "        text-align: right;\n",
              "    }\n",
              "</style>\n",
              "<table border=\"1\" class=\"dataframe\">\n",
              "  <thead>\n",
              "    <tr style=\"text-align: right;\">\n",
              "      <th></th>\n",
              "      <th>right/left</th>\n",
              "    </tr>\n",
              "  </thead>\n",
              "  <tbody>\n",
              "    <tr>\n",
              "      <th>0</th>\n",
              "      <td>0</td>\n",
              "    </tr>\n",
              "    <tr>\n",
              "      <th>1</th>\n",
              "      <td>1</td>\n",
              "    </tr>\n",
              "    <tr>\n",
              "      <th>2</th>\n",
              "      <td>0</td>\n",
              "    </tr>\n",
              "    <tr>\n",
              "      <th>3</th>\n",
              "      <td>0</td>\n",
              "    </tr>\n",
              "    <tr>\n",
              "      <th>4</th>\n",
              "      <td>1</td>\n",
              "    </tr>\n",
              "  </tbody>\n",
              "</table>\n",
              "</div><br><label><b>dtype:</b> int64</label>"
            ]
          },
          "metadata": {},
          "execution_count": 30
        }
      ]
    },
    {
      "cell_type": "code",
      "source": [
        "train.shape"
      ],
      "metadata": {
        "colab": {
          "base_uri": "https://localhost:8080/"
        },
        "id": "6KqhQesJR7lo",
        "outputId": "f8ae8e5d-5960-4598-f499-f8a1bb4f8b83"
      },
      "execution_count": 31,
      "outputs": [
        {
          "output_type": "execute_result",
          "data": {
            "text/plain": [
              "(71992, 24)"
            ]
          },
          "metadata": {},
          "execution_count": 31
        }
      ]
    },
    {
      "cell_type": "code",
      "source": [
        "train  = pd.DataFrame(train, columns=CSV_COLUMN_NAMES)\n",
        "test = pd.DataFrame(test, columns=CSV_COLUMN_NAMES)\n",
        "train.keys()"
      ],
      "metadata": {
        "colab": {
          "base_uri": "https://localhost:8080/"
        },
        "id": "C7ZI3deVbNAD",
        "outputId": "a682804a-aa9d-4b74-a16d-99287d4de6ca"
      },
      "execution_count": 70,
      "outputs": [
        {
          "output_type": "execute_result",
          "data": {
            "text/plain": [
              "Index(['Delta_TP9', 'Delta_AF7', 'Delta_AF8', 'Delta_TP10', 'Theta_TP9',\n",
              "       'Theta_AF7', 'Theta_AF8', 'Theta_TP10', 'Alpha_TP9', 'Alpha_AF7',\n",
              "       'Alpha_AF8', 'Alpha_TP10', 'Beta_TP9', 'Beta_AF7', 'Beta_AF8',\n",
              "       'Beta_TP10', 'Gamma_TP9', 'Gamma_AF7', 'Gamma_AF8', 'Gamma_TP10',\n",
              "       'RAW_TP9', 'RAW_AF7', 'RAW_AF8', 'RAW_TP10'],\n",
              "      dtype='object')"
            ]
          },
          "metadata": {},
          "execution_count": 70
        }
      ]
    },
    {
      "cell_type": "code",
      "source": [
        "def input_fn(features, labels, training=True, batch_size=256):\n",
        "    dataset = tf.data.Dataset.from_tensor_slices((dict(features), labels))\n",
        "\n",
        "    if training:\n",
        "      dataset = dataset.shuffle(1000).repeat()\n",
        "\n",
        "    return dataset.batch(batch_size)"
      ],
      "metadata": {
        "id": "7hE2d0zrRIxq"
      },
      "execution_count": 86,
      "outputs": []
    },
    {
      "cell_type": "code",
      "source": [
        "my_feature_columns = []\n",
        "for key in train.keys():\n",
        "  my_feature_columns.append(tf.feature_column.numeric_column(key=key))\n",
        "print(my_feature_columns)"
      ],
      "metadata": {
        "colab": {
          "base_uri": "https://localhost:8080/"
        },
        "id": "8GGAfNQqRTvr",
        "outputId": "982b2409-3eb6-4de1-ef77-fb8790679785"
      },
      "execution_count": 83,
      "outputs": [
        {
          "output_type": "stream",
          "name": "stdout",
          "text": [
            "[NumericColumn(key='Delta_TP9', shape=(1,), default_value=None, dtype=tf.float32, normalizer_fn=None), NumericColumn(key='Delta_AF7', shape=(1,), default_value=None, dtype=tf.float32, normalizer_fn=None), NumericColumn(key='Delta_AF8', shape=(1,), default_value=None, dtype=tf.float32, normalizer_fn=None), NumericColumn(key='Delta_TP10', shape=(1,), default_value=None, dtype=tf.float32, normalizer_fn=None), NumericColumn(key='Theta_TP9', shape=(1,), default_value=None, dtype=tf.float32, normalizer_fn=None), NumericColumn(key='Theta_AF7', shape=(1,), default_value=None, dtype=tf.float32, normalizer_fn=None), NumericColumn(key='Theta_AF8', shape=(1,), default_value=None, dtype=tf.float32, normalizer_fn=None), NumericColumn(key='Theta_TP10', shape=(1,), default_value=None, dtype=tf.float32, normalizer_fn=None), NumericColumn(key='Alpha_TP9', shape=(1,), default_value=None, dtype=tf.float32, normalizer_fn=None), NumericColumn(key='Alpha_AF7', shape=(1,), default_value=None, dtype=tf.float32, normalizer_fn=None), NumericColumn(key='Alpha_AF8', shape=(1,), default_value=None, dtype=tf.float32, normalizer_fn=None), NumericColumn(key='Alpha_TP10', shape=(1,), default_value=None, dtype=tf.float32, normalizer_fn=None), NumericColumn(key='Beta_TP9', shape=(1,), default_value=None, dtype=tf.float32, normalizer_fn=None), NumericColumn(key='Beta_AF7', shape=(1,), default_value=None, dtype=tf.float32, normalizer_fn=None), NumericColumn(key='Beta_AF8', shape=(1,), default_value=None, dtype=tf.float32, normalizer_fn=None), NumericColumn(key='Beta_TP10', shape=(1,), default_value=None, dtype=tf.float32, normalizer_fn=None), NumericColumn(key='Gamma_TP9', shape=(1,), default_value=None, dtype=tf.float32, normalizer_fn=None), NumericColumn(key='Gamma_AF7', shape=(1,), default_value=None, dtype=tf.float32, normalizer_fn=None), NumericColumn(key='Gamma_AF8', shape=(1,), default_value=None, dtype=tf.float32, normalizer_fn=None), NumericColumn(key='Gamma_TP10', shape=(1,), default_value=None, dtype=tf.float32, normalizer_fn=None), NumericColumn(key='RAW_TP9', shape=(1,), default_value=None, dtype=tf.float32, normalizer_fn=None), NumericColumn(key='RAW_AF7', shape=(1,), default_value=None, dtype=tf.float32, normalizer_fn=None), NumericColumn(key='RAW_AF8', shape=(1,), default_value=None, dtype=tf.float32, normalizer_fn=None), NumericColumn(key='RAW_TP10', shape=(1,), default_value=None, dtype=tf.float32, normalizer_fn=None)]\n"
          ]
        }
      ]
    },
    {
      "cell_type": "code",
      "source": [
        "Classifier = tf.estimator.DNNClassifier(\n",
        "    feature_columns=my_feature_columns,\n",
        "    hidden_units=[30,10],\n",
        "    n_classes=3\n",
        ")"
      ],
      "metadata": {
        "colab": {
          "base_uri": "https://localhost:8080/"
        },
        "id": "Azrevxw_SQG0",
        "outputId": "50a51ae4-f435-426f-9860-11b9e2f17828"
      },
      "execution_count": 85,
      "outputs": [
        {
          "output_type": "stream",
          "name": "stderr",
          "text": [
            "WARNING:tensorflow:Using temporary folder as model directory: /tmp/tmpbpgzlb97\n"
          ]
        }
      ]
    },
    {
      "cell_type": "code",
      "source": [
        "Classifier.train(\n",
        "    input_fn=lambda: input_fn(train, train_y, training=True),\n",
        "    steps=5000\n",
        ")"
      ],
      "metadata": {
        "colab": {
          "base_uri": "https://localhost:8080/"
        },
        "id": "1b62Xy2_STOV",
        "outputId": "0aa12154-0cf3-4342-9d54-ca2c2343a585"
      },
      "execution_count": 87,
      "outputs": [
        {
          "output_type": "execute_result",
          "data": {
            "text/plain": [
              "<tensorflow_estimator.python.estimator.canned.dnn.DNNClassifierV2 at 0x7dee894abb50>"
            ]
          },
          "metadata": {},
          "execution_count": 87
        }
      ]
    },
    {
      "cell_type": "code",
      "source": [
        "eval_result = Classifier.evaluate(input_fn=lambda: input_fn(test, test_y, training=False))\n",
        "\n",
        "# Print the evaluation results\n",
        "print(\"Evaluation Results:\")\n",
        "print(f\"Loss: {eval_result['loss']}\")\n",
        "print(f\"Accuracy: {eval_result['accuracy']}\")"
      ],
      "metadata": {
        "colab": {
          "base_uri": "https://localhost:8080/"
        },
        "id": "cCyHXwevSWz9",
        "outputId": "65c50fa3-fd6f-4182-eb87-a75c4a346798"
      },
      "execution_count": 88,
      "outputs": [
        {
          "output_type": "stream",
          "name": "stdout",
          "text": [
            "Evaluation Results:\n",
            "Loss: 0.6941698789596558\n",
            "Accuracy: 0.7935996651649475\n"
          ]
        }
      ]
    },
    {
      "cell_type": "code",
      "source": [
        "def input_fn(features, batch_size=256):\n",
        "  return tf.data.Dataset.from_tensor_slices(dict(features)).batch(batch_size)\n",
        "\n",
        "# Define your features list\n",
        "features = [\n",
        "    \"Delta_TP9\", \"Delta_AF7\", \"Delta_AF8\", \"Delta_TP10\",\n",
        "    \"Theta_TP9\", \"Theta_AF7\", \"Theta_AF8\", \"Theta_TP10\",\n",
        "    \"Alpha_TP9\", \"Alpha_AF7\", \"Alpha_AF8\", \"Alpha_TP10\",\n",
        "    \"Beta_TP9\", \"Beta_AF7\", \"Beta_AF8\", \"Beta_TP10\",\n",
        "    \"Gamma_TP9\", \"Gamma_AF7\", \"Gamma_AF8\", \"Gamma_TP10\",\n",
        "    \"RAW_TP9\", \"RAW_AF7\", \"RAW_AF8\", \"RAW_TP10\"\n",
        "]\n",
        "\n",
        "# Define a placeholder for predictions\n",
        "predict = {}\n",
        "\n",
        "# Define species (map of class_id to label)\n",
        "SPECIES = {\n",
        "    0: 'Yes',  # Left corresponds to Yes\n",
        "    1: 'No'    # Right corresponds to No\n",
        "}\n",
        "\n",
        "\n",
        "#print(\"Please type numeric values as prompted.\")\n",
        "\n",
        "# Loop to get user input for each feature\n",
        "# This block simulates user input for testing purposes\n",
        "sample_input = {\n",
        "        \"Delta_TP9\":0.59163696 ,\n",
        "        \"Delta_AF7\":0.01845632 ,\n",
        "        \"Delta_AF8\":0.39987254 ,\n",
        "        \"Delta_TP10\": 0.3521991,\n",
        "        \"Theta_TP9\": 0.4017705,\n",
        "        \"Theta_AF7\": -0.28230044,\n",
        "        \"Theta_AF8\": 0.19124019,\n",
        "        \"Theta_TP10\": 0.25486785,\n",
        "        \"Alpha_TP9\": 0.965107,\n",
        "        \"Alpha_AF7\": 0.13743778,\n",
        "        \"Alpha_AF8\": 0.17819376,\n",
        "        \"Alpha_TP10\": 0.8098928,\n",
        "        \"Beta_TP9\": 0.42564297,\n",
        "        \"Beta_AF7\": 0.011029556,\n",
        "        \"Beta_AF8\": -0.04504707,\n",
        "        \"Beta_TP10\": 0.36825404,\n",
        "        \"Gamma_TP9\": 0.13911395,\n",
        "        \"Gamma_AF7\":-0.2741823,\n",
        "        \"Gamma_AF8\": -0.42481604,\n",
        "        \"Gamma_TP10\": 0.3228632,\n",
        "        \"RAW_TP9\": 798.20514,\n",
        "        \"RAW_AF7\": 792.5641,\n",
        "        \"RAW_AF8\":790.9524,\n",
        "        \"RAW_TP10\": 801.02563\n",
        "}\n",
        "\n",
        "# Here, we simulate the input by using the sample_input dictionary\n",
        "for feature in features:\n",
        "    # Replace the input method with our sample_input for testing\n",
        "    predict[feature] = [sample_input[feature]]\n",
        "\n",
        "\n",
        "predictions = Classifier.predict(input_fn=lambda: input_fn(predict))\n",
        "\n",
        "\n",
        "for pred_dict in predictions:\n",
        "    class_id = pred_dict['class_ids'][0]  # Get the predicted class ID\n",
        "    probability = pred_dict['probabilities'][class_id]  # Get the associated probability\n",
        "\n",
        "    # Only print prediction if probability is greater than 0.8\n",
        "    if probability > 0.8:\n",
        "        print('Prediction is \"{}\" ({:.1f}%)'.format(\n",
        "            SPECIES.get(class_id, 'Unknown'), 100 * probability))\n",
        "    else:\n",
        "        print(\"Prediction probability is below threshold (0.8). No prediction made.\")\n",
        "\n",
        "\n",
        "\n",
        "\n",
        ""
      ],
      "metadata": {
        "colab": {
          "base_uri": "https://localhost:8080/"
        },
        "id": "K_Bzv_iDc5RD",
        "outputId": "471cbf2c-e9be-4095-9bfa-ac18a4817ebc"
      },
      "execution_count": 107,
      "outputs": [
        {
          "output_type": "stream",
          "name": "stdout",
          "text": [
            "Prediction is \"Yes\" (90.8%)\n"
          ]
        }
      ]
    }
  ]
}